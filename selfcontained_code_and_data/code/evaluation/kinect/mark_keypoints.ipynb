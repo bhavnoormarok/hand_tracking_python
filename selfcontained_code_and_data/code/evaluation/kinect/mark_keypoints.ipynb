{
 "cells": [
  {
   "cell_type": "code",
   "execution_count": 65,
   "metadata": {},
   "outputs": [],
   "source": [
    "from utils.freq_imports import *\n",
    "from utils.helper import create_dir\n",
    "from evaluation.kinect.capture_data import get_kinecvtv2_stored_intrinsics\n",
    "from utils import plotly_wrapper\n",
    "from ipywidgets import Output, VBox\n",
    "from utils.perspective_projection import uvd2xyz, xyz2uv\n",
    "from evaluation.kinect.preprocess import process_frame\n"
   ]
  },
  {
   "cell_type": "code",
   "execution_count": 281,
   "metadata": {},
   "outputs": [],
   "source": [
    "# read depth image\n",
    "root_dir = \"../../..\"\n",
    "path_to_kinect_data = Path(f\"{root_dir}/data/kinect\")\n",
    "\n",
    "# ----------------------------------------\n",
    "# NOTE: change this for every user\n",
    "user = \"vihaan\"\n",
    "sequence = 6\n",
    "# ----------------------------------------\n",
    "in_seq_dir = f\"{path_to_kinect_data}/{user}/{sequence}\"\n",
    "in_color_raw_dir = f\"{in_seq_dir}/color_raw\"\n",
    "in_depth_raw_dir = f\"{in_seq_dir}/depth_raw\"\n",
    "in_depth_proc_dir = f\"{in_seq_dir}/depth_proc\"\n",
    "i_frame = 1\n",
    "color_raw = cv.imread(f\"{in_color_raw_dir}/{i_frame:05d}.png\")[:, :, ::-1]\n",
    "depth_raw = np.load(f\"{in_depth_raw_dir}/{i_frame:05d}.npy\")\n",
    "\n",
    "H, W = 424, 512\n",
    "fx, fy, cx, cy = get_kinecvtv2_stored_intrinsics()\n",
    "z_near, z_far = 0.6, 1.2   # m\n",
    "d_near = z_near * 1000; d_far = z_far * 1000    # depth uses mm as units\n",
    "    \n",
    "# xyz_crop_center = np.array([0, 0, 0.7])\n",
    "# color_proc, depth_proc, mask_sil, xyz_crop_center = process_frame(color_raw, depth_raw, d_near, d_far, fx, fy, cx, cy, xyz_crop_center)\n",
    "depth_proc = np.load(f\"{in_depth_proc_dir}/{i_frame:05d}.npy\")\n",
    "\n"
   ]
  },
  {
   "cell_type": "code",
   "execution_count": 282,
   "metadata": {},
   "outputs": [
    {
     "data": {
      "application/vnd.jupyter.widget-view+json": {
       "model_id": "b72e6eef1b904022a352b063fbabbf08",
       "version_major": 2,
       "version_minor": 0
      },
      "text/plain": [
       "VBox(children=(FigureWidget({\n",
       "    'data': [{'hovertemplate': '%{z}<extra></extra>',\n",
       "              'type': 'hea…"
      ]
     },
     "metadata": {},
     "output_type": "display_data"
    }
   ],
   "source": [
    "hm = go.Heatmap(z=depth_proc, hovertemplate=\"%{z}<extra></extra>\")\n",
    "fig = go.FigureWidget([hm])\n",
    "plotly_wrapper.invert_fig_y(fig)\n",
    "scale = 2\n",
    "fig.update_layout(width=W*scale, height=H*scale, hoverdistance=1)\n",
    "\n",
    "# marking order:\n",
    "# wrist\n",
    "# thumb: mcp, pip, dip, tip\n",
    "# index: mcp, pip, dip, tip\n",
    "# middle: mcp, pip, dip, tip\n",
    "# ring: mcp, pip, dip, tip\n",
    "# pinky: mcp, pip, dip, tip\n",
    "k_uvd_marked = []\n",
    "out = Output()\n",
    "\n",
    "@out.capture(clear_output=False)\n",
    "def mark_points(trace, points, selector):\n",
    "    v, u = points.point_inds[0]\n",
    "    d = depth_proc[v, u] / 1000\n",
    "    uvd = np.array([u, v, d])\n",
    "    # print(uvd)\n",
    "    k_uvd_marked.append(uvd)\n",
    "    \n",
    "    fig.add_trace(go.Scatter(x=[u], y=[v], mode=\"markers\", marker=dict(size=5, color=\"red\"), hovertemplate=\"<extra></extra>\", showlegend=False))\n",
    "\n",
    "fig.data[0].on_click(mark_points)\n",
    "\n",
    "VBox([fig, out])"
   ]
  },
  {
   "cell_type": "code",
   "execution_count": 283,
   "metadata": {},
   "outputs": [],
   "source": [
    "k_marked = uvd2xyz(np.array(k_uvd_marked), fx, fy, cx, cy)\n",
    "\n",
    "out_dir = f\"{root_dir}/output/kinect/marked_keypoints/{user}/{sequence}\"; create_dir(out_dir, True)\n",
    "plotly_wrapper.invert_fig_y(fig)    # is this required again?\n",
    "fig.write_html(f\"{out_dir}/marked_keypoints.html\")\n",
    "np.save(f\"{out_dir}/k_marked.npy\", k_marked)"
   ]
  },
  {
   "cell_type": "code",
   "execution_count": null,
   "metadata": {},
   "outputs": [],
   "source": []
  }
 ],
 "metadata": {
  "kernelspec": {
   "display_name": "env_hand",
   "language": "python",
   "name": "python3"
  },
  "language_info": {
   "codemirror_mode": {
    "name": "ipython",
    "version": 3
   },
   "file_extension": ".py",
   "mimetype": "text/x-python",
   "name": "python",
   "nbconvert_exporter": "python",
   "pygments_lexer": "ipython3",
   "version": "3.8.12 (default, Oct 12 2021, 06:23:56) \n[Clang 10.0.0 ]"
  },
  "orig_nbformat": 4,
  "vscode": {
   "interpreter": {
    "hash": "de2a6101d8840a14f6462f1219cfe90220784a4ac7125f142018b329941a7918"
   }
  }
 },
 "nbformat": 4,
 "nbformat_minor": 2
}
